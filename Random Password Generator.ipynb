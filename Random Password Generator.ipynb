{
 "cells": [
  {
   "cell_type": "code",
   "execution_count": 1,
   "id": "2b945f19",
   "metadata": {},
   "outputs": [],
   "source": [
    "import random"
   ]
  },
  {
   "cell_type": "code",
   "execution_count": null,
   "id": "7f855755",
   "metadata": {},
   "outputs": [],
   "source": [
    "#User inputing required information\n",
    "chars = 'abcdefghijklmnopqrstuvwxyzABCDEFGHIJKLMNOPQRSTUVWXYZ1234567890=,./!£$%&-_@*()[]{}<>'\n",
    "number = int(input('Input the number of passwords required: '))\n",
    "length = int(input('Input the required length of each password: '))\n",
    "\n",
    "print(\"Here are you're passwords: \")\n",
    "\n",
    "#Code for randomising the password\n",
    "for password in range(number):\n",
    "    passwords = ''\n",
    "    for integer in range(length):\n",
    "        passwords += random.choice(chars)\n",
    "    print(passwords)"
   ]
  },
  {
   "cell_type": "code",
   "execution_count": null,
   "id": "f93e5d77",
   "metadata": {},
   "outputs": [],
   "source": []
  },
  {
   "cell_type": "code",
   "execution_count": null,
   "id": "6626c525",
   "metadata": {},
   "outputs": [],
   "source": []
  }
 ],
 "metadata": {
  "kernelspec": {
   "display_name": "Python 3 (ipykernel)",
   "language": "python",
   "name": "python3"
  },
  "language_info": {
   "codemirror_mode": {
    "name": "ipython",
    "version": 3
   },
   "file_extension": ".py",
   "mimetype": "text/x-python",
   "name": "python",
   "nbconvert_exporter": "python",
   "pygments_lexer": "ipython3",
   "version": "3.11.5"
  }
 },
 "nbformat": 4,
 "nbformat_minor": 5
}
